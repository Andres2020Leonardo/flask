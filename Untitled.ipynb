{
 "cells": [
  {
   "cell_type": "code",
   "execution_count": 1,
   "id": "bd665072",
   "metadata": {},
   "outputs": [],
   "source": [
    "import os\n",
    "import pandas as pd\n",
    "\n",
    "# Ruta de la carpeta que contiene los archivos CSV\n",
    "carpeta = 'C:/apps/flask'\n",
    "\n",
    "# Obtener la lista de archivos en la carpeta\n",
    "archivos = os.listdir(carpeta)\n",
    "\n"
   ]
  },
  {
   "cell_type": "code",
   "execution_count": 2,
   "id": "ed6f46ab",
   "metadata": {},
   "outputs": [
    {
     "data": {
      "text/plain": [
       "['.git',\n",
       " '.github',\n",
       " '.gitignore',\n",
       " '.ipynb_checkpoints',\n",
       " 'app.py',\n",
       " 'base_puertos.csv',\n",
       " 'base_puertos1.csv',\n",
       " 'direcciones',\n",
       " 'Direcciones Cali.xlsx',\n",
       " 'Direcciones Cartagena.xlsx',\n",
       " 'Direcciones Jamundi.xlsx',\n",
       " 'Direcciones Pasto.xlsx',\n",
       " 'Direcciones Popayan.xlsx',\n",
       " 'Direcciones Tulua.xlsx',\n",
       " 'requirements.txt',\n",
       " 'Untitled.ipynb']"
      ]
     },
     "execution_count": 2,
     "metadata": {},
     "output_type": "execute_result"
    }
   ],
   "source": [
    "archivos"
   ]
  },
  {
   "cell_type": "code",
   "execution_count": 3,
   "id": "79308d65",
   "metadata": {},
   "outputs": [
    {
     "name": "stdout",
     "output_type": "stream",
     "text": [
      "direcciones/Direcciones Cali.xlsx\n",
      "direcciones/Direcciones Cartagena.xlsx\n",
      "direcciones/Direcciones Jamundi.xlsx\n",
      "direcciones/Direcciones Pasto.xlsx\n",
      "direcciones/Direcciones Popayan.xlsx\n",
      "direcciones/Direcciones Tulua.xlsx\n"
     ]
    }
   ],
   "source": [
    "\n",
    "# Iterar sobre cada archivo CSV en la carpeta\n",
    "for archivo in archivos:\n",
    "    if archivo.endswith('.xlsx'):  # Asegurarse de que sea un archivo CSV\n",
    "       \n",
    "        ruta=\"direcciones/\"+str(archivo)\n",
    "        print(ruta)\n",
    "        df = pd.read_excel(archivo, sheet_name = 'Hoja1')\n",
    "        ruta=ruta.replace(\".xlsx\",\".csv\")\n",
    "\n",
    "        df.to_csv(ruta, sep=';')"
   ]
  },
  {
   "cell_type": "code",
   "execution_count": null,
   "id": "bd632bea",
   "metadata": {},
   "outputs": [],
   "source": []
  }
 ],
 "metadata": {
  "celltoolbar": "Raw Cell Format",
  "kernelspec": {
   "display_name": "Python 3 (ipykernel)",
   "language": "python",
   "name": "python3"
  },
  "language_info": {
   "codemirror_mode": {
    "name": "ipython",
    "version": 3
   },
   "file_extension": ".py",
   "mimetype": "text/x-python",
   "name": "python",
   "nbconvert_exporter": "python",
   "pygments_lexer": "ipython3",
   "version": "3.11.4"
  }
 },
 "nbformat": 4,
 "nbformat_minor": 5
}
